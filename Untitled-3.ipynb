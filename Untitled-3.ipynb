{
 "cells": [
  {
   "cell_type": "markdown",
   "id": "f1bf6562",
   "metadata": {},
   "source": [
    "# Import Required Libraries\n",
    "Import necessary libraries such as `pydantic`, `requests`, and `datetime`."
   ]
  },
  {
   "cell_type": "code",
   "execution_count": null,
   "id": "b1c80878",
   "metadata": {},
   "outputs": [],
   "source": [
    "# Import Required Libraries\n",
    "from pydantic import BaseModel, TypeAdapter\n",
    "from pydantic_ai import Agent\n",
    "from pydantic_ai.models.openai import OpenAIModel\n",
    "from pydantic_ai.providers.openai import OpenAIProvider\n",
    "import requests\n",
    "from datetime import datetime"
   ]
  },
  {
   "cell_type": "markdown",
   "id": "fc384987",
   "metadata": {},
   "source": [
    "# Set Up Configuration\n",
    "Define the base URL for the agent and any required configurations."
   ]
  },
  {
   "cell_type": "code",
   "execution_count": null,
   "id": "a46cd438",
   "metadata": {},
   "outputs": [],
   "source": [
    "# Set Up Configuration\n",
    "OLLAMA_URL = \"http://llama.lan:11434\""
   ]
  },
  {
   "cell_type": "code",
   "execution_count": null,
   "id": "238aefdd",
   "metadata": {},
   "outputs": [],
   "source": [
    "# Test the connection to the base URL\n",
    "requests.get(OLLAMA_URL).text"
   ]
  },
  {
   "cell_type": "markdown",
   "id": "6b8ffa42",
   "metadata": {},
   "source": [
    "# Define Models\n",
    "Create Pydantic models for handling the agent's data structure, including `OllamaModel` and `OllamaModelDetails`."
   ]
  },
  {
   "cell_type": "code",
   "execution_count": null,
   "id": "f534bfa8",
   "metadata": {},
   "outputs": [],
   "source": [
    "# Define Models\n",
    "class OllamaModelDetails(BaseModel):\n",
    "    parent_model: str\n",
    "    format: str\n",
    "    family: str\n",
    "    families: list[str]\n",
    "    parameter_size: str\n",
    "    quantization_level: str\n",
    "\n",
    "class OllamaModel(BaseModel):\n",
    "    name: str\n",
    "    model: str\n",
    "    modified_at: datetime\n",
    "    size: int\n",
    "    digest: str\n",
    "    details: OllamaModelDetails"
   ]
  },
  {
   "cell_type": "code",
   "execution_count": null,
   "id": "d3f10474",
   "metadata": {},
   "outputs": [],
   "source": [
    "# Import additional libraries\n",
    "import json"
   ]
  },
  {
   "cell_type": "markdown",
   "id": "cbf9cf9e",
   "metadata": {},
   "source": [
    "# Fetch Model List\n",
    "Use a function to fetch the list of models from the server and validate them using Pydantic."
   ]
  },
  {
   "cell_type": "code",
   "execution_count": null,
   "id": "b6e6199c",
   "metadata": {},
   "outputs": [],
   "source": [
    "# Fetch Model List\n",
    "def get_model_list() -> list[OllamaModel]:\n",
    "    try:\n",
    "        response = requests.get(f\"{OLLAMA_URL}/api/tags\")\n",
    "        response.raise_for_status()\n",
    "        ollama_models_json = response.json().get(\"models\", [])\n",
    "        try:\n",
    "            return TypeAdapter(list[OllamaModel]).validate_python(ollama_models_json)\n",
    "        except ValueError as e:\n",
    "            print(f\"Error validating model list: {e}\")\n",
    "            return []\n",
    "    except requests.RequestException as e:\n",
    "        print(f\"Error fetching model list: {e}\")\n",
    "        pass\n",
    "    except ValueError as e:\n",
    "        print(f\"Error parsing model list: {e}\")\n",
    "        pass\n",
    "    except Exception as e:\n",
    "        print(f\"Unexpected error: {e}\")\n",
    "        pass\n",
    "    return []"
   ]
  },
  {
   "cell_type": "code",
   "execution_count": null,
   "id": "fcd514a6",
   "metadata": {},
   "outputs": [],
   "source": [
    "# Fetch and store the list of models\n",
    "ollama_models = get_model_list()"
   ]
  },
  {
   "cell_type": "code",
   "execution_count": null,
   "id": "3a4c0022",
   "metadata": {},
   "outputs": [],
   "source": [
    "# Print the list of models\n",
    "for index, ollama_model in enumerate(ollama_models):\n",
    "    print(f\"{index}: {ollama_model.name} ({ollama_model.model})\")"
   ]
  },
  {
   "cell_type": "markdown",
   "id": "356ed0b6",
   "metadata": {},
   "source": [
    "# Initialize the Agent\n",
    "Create an instance of the `Agent` class with the appropriate model and system message."
   ]
  },
  {
   "cell_type": "code",
   "execution_count": null,
   "id": "c2d70afa",
   "metadata": {},
   "outputs": [],
   "source": [
    "# Initialize the Agent\n",
    "model = OpenAIModel(\n",
    "    model_name='llama3.2',\n",
    "    provider=OpenAIProvider(base_url=f'{OLLAMA_URL}/v1')\n",
    ")\n",
    "\n",
    "agent = Agent(\n",
    "    model=model,\n",
    "    system_message=\"You are a helpful assistant.\",\n",
    ")"
   ]
  },
  {
   "cell_type": "markdown",
   "id": "a7dcf17e",
   "metadata": {},
   "source": [
    "# Run the Agent\n",
    "Execute the agent with a sample query and print the results."
   ]
  },
  {
   "cell_type": "code",
   "execution_count": null,
   "id": "971dd8db",
   "metadata": {},
   "outputs": [],
   "source": [
    "# Run the Agent\n",
    "agent.run('Where were the olympics held in 2012?')"
   ]
  }
 ],
 "metadata": {
  "language_info": {
   "name": "python"
  }
 },
 "nbformat": 4,
 "nbformat_minor": 5
}
