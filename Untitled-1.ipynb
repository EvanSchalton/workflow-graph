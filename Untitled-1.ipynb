{
 "cells": [
  {
   "cell_type": "markdown",
   "id": "e3fb0c35",
   "metadata": {},
   "source": [
    "# Import Required Libraries\n",
    "Import necessary libraries such as `pydantic`, `requests`, and any custom modules required for the agent."
   ]
  },
  {
   "cell_type": "code",
   "execution_count": null,
   "id": "228446bc",
   "metadata": {},
   "outputs": [],
   "source": [
    "from pydantic import BaseModel, TypeAdapter\n",
    "from pydantic_ai import Agent\n",
    "from pydantic_ai.models.openai import OpenAIModel\n",
    "from pydantic_ai.providers.openai import OpenAIProvider\n",
    "import requests\n",
    "from datetime import datetime"
   ]
  },
  {
   "cell_type": "code",
   "execution_count": null,
   "id": "0dcc0418",
   "metadata": {},
   "outputs": [],
   "source": [
    "OLLAMA_URL = \"http://llama.lan:11434\""
   ]
  },
  {
   "cell_type": "markdown",
   "id": "98141a8a",
   "metadata": {},
   "source": [
    "# Set Up Configuration\n",
    "Define configuration variables like the base URL for the agent and model details."
   ]
  },
  {
   "cell_type": "code",
   "execution_count": null,
   "id": "952fd44d",
   "metadata": {},
   "outputs": [],
   "source": [
    "requests.get(OLLAMA_URL).text"
   ]
  },
  {
   "cell_type": "code",
   "execution_count": null,
   "id": "5e871207",
   "metadata": {},
   "outputs": [],
   "source": [
    "model = OpenAIModel(\n",
    "    model_name='llama3.2',\n",
    "    provider=OpenAIProvider(base_url=f'{OLLAMA_URL}/v1')\n",
    ")"
   ]
  },
  {
   "cell_type": "markdown",
   "id": "ecc599a2",
   "metadata": {},
   "source": [
    "# Define Helper Functions\n",
    "Create helper functions to fetch model lists or validate data using Pydantic models."
   ]
  },
  {
   "cell_type": "code",
   "execution_count": null,
   "id": "afe90072",
   "metadata": {},
   "outputs": [],
   "source": [
    "class OllamaModelDetails(BaseModel):\n",
    "    parent_model: str\n",
    "    format: str\n",
    "    family: str\n",
    "    families: list[str]\n",
    "    parameter_size: str\n",
    "    quantization_level: str\n",
    "\n",
    "class OllamaModel(BaseModel):\n",
    "    name: str\n",
    "    model: str\n",
    "    modified_at: datetime\n",
    "    size: int\n",
    "    digest: str\n",
    "    details: OllamaModelDetails"
   ]
  },
  {
   "cell_type": "code",
   "execution_count": null,
   "id": "13efae36",
   "metadata": {},
   "outputs": [],
   "source": [
    "import json"
   ]
  },
  {
   "cell_type": "code",
   "execution_count": null,
   "id": "afc88da1",
   "metadata": {},
   "outputs": [],
   "source": [
    "# use requests to get the model list\n",
    "def get_model_list() -> list[OllamaModel]:\n",
    "    try:\n",
    "        response = requests.get(f\"{OLLAMA_URL}/api/tags\")\n",
    "        response.raise_for_status()\n",
    "        ollama_models_json = response.json().get(\"models\", [])\n",
    "        try:\n",
    "            return TypeAdapter(list[OllamaModel]).validate_python(ollama_models_json)\n",
    "        except ValueError as e:\n",
    "            print(f\"Error validating model list: {e}\")\n",
    "            return []\n",
    "    except requests.RequestException as e:\n",
    "        print(f\"Error fetching model list: {e}\")\n",
    "        pass\n",
    "    except ValueError as e:\n",
    "        print(f\"Error parsing model list: {e}\")\n",
    "        pass\n",
    "    except Exception as e:\n",
    "        print(f\"Unexpected error: {e}\")\n",
    "        pass\n",
    "    return []"
   ]
  },
  {
   "cell_type": "code",
   "execution_count": null,
   "id": "a3a0cf00",
   "metadata": {},
   "outputs": [],
   "source": [
    "ollama_models = get_model_list()"
   ]
  },
  {
   "cell_type": "code",
   "execution_count": null,
   "id": "c80903dd",
   "metadata": {},
   "outputs": [],
   "source": [
    "for index, ollama_model in enumerate(ollama_models):\n",
    "    print(f\"{index}: {ollama_model.name} ({ollama_model.model})\")"
   ]
  },
  {
   "cell_type": "markdown",
   "id": "b9aefba5",
   "metadata": {},
   "source": [
    "# Initialize the Agent\n",
    "Set up the agent with the appropriate model and system message."
   ]
  },
  {
   "cell_type": "code",
   "execution_count": null,
   "id": "a11e52e0",
   "metadata": {},
   "outputs": [],
   "source": [
    "agent = Agent(\n",
    "    model=model,\n",
    "    system_message=\"You are a helpful assistant.\",\n",
    ")"
   ]
  },
  {
   "cell_type": "markdown",
   "id": "b9762871",
   "metadata": {},
   "source": [
    "# Run the Agent\n",
    "Execute the agent with a sample query and display the response."
   ]
  },
  {
   "cell_type": "code",
   "execution_count": null,
   "id": "967a3907",
   "metadata": {},
   "outputs": [],
   "source": [
    "agent.run('Where were the olympics held in 2012?')"
   ]
  }
 ],
 "metadata": {
  "language_info": {
   "name": "python"
  }
 },
 "nbformat": 4,
 "nbformat_minor": 5
}
