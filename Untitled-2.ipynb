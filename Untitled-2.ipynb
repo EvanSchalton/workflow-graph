{
 "cells": [
  {
   "cell_type": "markdown",
   "id": "79ad567c",
   "metadata": {},
   "source": [
    "# Import Required Libraries\n",
    "Import all necessary libraries such as `pydantic`, `requests`, and any custom modules required for the agent."
   ]
  },
  {
   "cell_type": "code",
   "execution_count": null,
   "id": "4a6db5fa",
   "metadata": {},
   "outputs": [],
   "source": [
    "# Import Required Libraries\n",
    "from pydantic import BaseModel, TypeAdapter\n",
    "from pydantic_ai import Agent\n",
    "from pydantic_ai.models.openai import OpenAIModel\n",
    "from pydantic_ai.providers.openai import OpenAIProvider\n",
    "import requests\n",
    "from datetime import datetime"
   ]
  },
  {
   "cell_type": "markdown",
   "id": "4da36188",
   "metadata": {},
   "source": [
    "# Set Up Environment Variables\n",
    "Define and configure environment variables like `OLLAMA_URL` for the agent's base URL."
   ]
  },
  {
   "cell_type": "code",
   "execution_count": null,
   "id": "543bf468",
   "metadata": {},
   "outputs": [],
   "source": [
    "# Set Up Environment Variables\n",
    "OLLAMA_URL = \"http://llama.lan:11434\""
   ]
  },
  {
   "cell_type": "code",
   "execution_count": null,
   "id": "d337d5b9",
   "metadata": {},
   "outputs": [],
   "source": [
    "# Test the connection to the OLLAMA_URL\n",
    "requests.get(OLLAMA_URL).text"
   ]
  },
  {
   "cell_type": "markdown",
   "id": "8d58a898",
   "metadata": {},
   "source": [
    "# Initialize the Model\n",
    "Create an instance of the `OpenAIModel` with the appropriate provider and base URL."
   ]
  },
  {
   "cell_type": "code",
   "execution_count": null,
   "id": "c06f154f",
   "metadata": {},
   "outputs": [],
   "source": [
    "# Initialize the Model\n",
    "model = OpenAIModel(\n",
    "    model_name='llama3.2',\n",
    "    provider=OpenAIProvider(base_url=f'{OLLAMA_URL}/v1')\n",
    ")"
   ]
  },
  {
   "cell_type": "markdown",
   "id": "fcd3021c",
   "metadata": {},
   "source": [
    "# Define Data Models\n",
    "Use Pydantic to define data models like `OllamaModel` and `OllamaModelDetails` for structured data handling."
   ]
  },
  {
   "cell_type": "code",
   "execution_count": null,
   "id": "db777035",
   "metadata": {},
   "outputs": [],
   "source": [
    "# Define Data Models\n",
    "class OllamaModelDetails(BaseModel):\n",
    "    parent_model: str\n",
    "    format: str\n",
    "    family: str\n",
    "    families: list[str]\n",
    "    parameter_size: str\n",
    "    quantization_level: str\n",
    "\n",
    "class OllamaModel(BaseModel):\n",
    "    name: str\n",
    "    model: str\n",
    "    modified_at: datetime\n",
    "    size: int\n",
    "    digest: str\n",
    "    details: OllamaModelDetails"
   ]
  },
  {
   "cell_type": "code",
   "execution_count": null,
   "id": "9575545d",
   "metadata": {},
   "outputs": [],
   "source": [
    "# Import JSON for additional data handling\n",
    "import json"
   ]
  },
  {
   "cell_type": "markdown",
   "id": "e3ced91c",
   "metadata": {},
   "source": [
    "# Fetch Model List\n",
    "Define a function to fetch the list of models using the `requests` library and validate the response using Pydantic."
   ]
  },
  {
   "cell_type": "code",
   "execution_count": null,
   "id": "787d1815",
   "metadata": {},
   "outputs": [],
   "source": [
    "# Fetch Model List\n",
    "def get_model_list() -> list[OllamaModel]:\n",
    "    try:\n",
    "        response = requests.get(f\"{OLLAMA_URL}/api/tags\")\n",
    "        response.raise_for_status()\n",
    "        ollama_models_json = response.json().get(\"models\", [])\n",
    "        try:\n",
    "            return TypeAdapter(list[OllamaModel]).validate_python(ollama_models_json)\n",
    "        except ValueError as e:\n",
    "            print(f\"Error validating model list: {e}\")\n",
    "            return []\n",
    "    except requests.RequestException as e:\n",
    "        print(f\"Error fetching model list: {e}\")\n",
    "        pass\n",
    "    except ValueError as e:\n",
    "        print(f\"Error parsing model list: {e}\")\n",
    "        pass\n",
    "    except Exception as e:\n",
    "        print(f\"Unexpected error: {e}\")\n",
    "        pass\n",
    "    return []"
   ]
  },
  {
   "cell_type": "code",
   "execution_count": null,
   "id": "0512e697",
   "metadata": {},
   "outputs": [],
   "source": [
    "# Fetch and store the list of models\n",
    "ollama_models = get_model_list()"
   ]
  },
  {
   "cell_type": "code",
   "execution_count": null,
   "id": "b6b40a12",
   "metadata": {},
   "outputs": [],
   "source": [
    "# Print the list of models\n",
    "for index, ollama_model in enumerate(ollama_models):\n",
    "    print(f\"{index}: {ollama_model.name} ({ollama_model.model})\")"
   ]
  },
  {
   "cell_type": "markdown",
   "id": "a0107d2f",
   "metadata": {},
   "source": [
    "# Run the Agent\n",
    "Instantiate the `Agent` with the initialized model and system message, and execute a query using the `run` method."
   ]
  },
  {
   "cell_type": "code",
   "execution_count": null,
   "id": "38ecb7e0",
   "metadata": {},
   "outputs": [],
   "source": [
    "# Run the Agent\n",
    "agent = Agent(\n",
    "    model=model,\n",
    "    system_message=\"You are a helpful assistant.\",\n",
    ")"
   ]
  },
  {
   "cell_type": "code",
   "execution_count": null,
   "id": "b4eaf4b9",
   "metadata": {},
   "outputs": [],
   "source": [
    "# Execute a query using the agent\n",
    "agent.run('Where were the olympics held in 2012?')"
   ]
  },
  {
   "cell_type": "code",
   "execution_count": null,
   "id": "5f3333a4",
   "metadata": {},
   "outputs": [],
   "source": [
    "# Placeholder for additional queries or functionality"
   ]
  }
 ],
 "metadata": {
  "language_info": {
   "name": "python"
  }
 },
 "nbformat": 4,
 "nbformat_minor": 5
}
